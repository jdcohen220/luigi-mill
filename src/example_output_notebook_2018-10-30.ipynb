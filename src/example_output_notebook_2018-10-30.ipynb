{
 "cells": [
  {
   "cell_type": "code",
   "execution_count": 1,
   "metadata": {
    "papermill": {
     "duration": 0.945274,
     "end_time": "2018-10-30T16:12:29.342120",
     "exception": false,
     "start_time": "2018-10-30T16:12:28.396846",
     "status": "completed"
    },
    "tags": []
   },
   "outputs": [],
   "source": [
    "import papermill as pm\n",
    "from utils import read_input_file, write_file"
   ]
  },
  {
   "cell_type": "code",
   "execution_count": 2,
   "metadata": {
    "papermill": {
     "duration": 0.020805,
     "end_time": "2018-10-30T16:12:29.364555",
     "exception": false,
     "start_time": "2018-10-30T16:12:29.343750",
     "status": "completed"
    },
    "tags": [
     "parameters"
    ]
   },
   "outputs": [],
   "source": [
    "filename = 'known.csv'"
   ]
  },
  {
   "cell_type": "code",
   "execution_count": 3,
   "metadata": {
    "papermill": {
     "duration": 0.01598,
     "end_time": "2018-10-30T16:12:29.387405",
     "exception": false,
     "start_time": "2018-10-30T16:12:29.371425",
     "status": "completed"
    },
    "tags": [
     "injected-parameters"
    ]
   },
   "outputs": [],
   "source": [
    "# Parameters\n",
    "filename = \"known2.csv\"\n",
    "output_file = \"output_2018-10-30.txt\"\n"
   ]
  },
  {
   "cell_type": "code",
   "execution_count": 4,
   "metadata": {
    "papermill": {
     "duration": 0.031792,
     "end_time": "2018-10-30T16:12:29.419923",
     "exception": false,
     "start_time": "2018-10-30T16:12:29.388131",
     "status": "completed"
    },
    "tags": []
   },
   "outputs": [],
   "source": [
    "data = read_input_file(filename)"
   ]
  },
  {
   "cell_type": "code",
   "execution_count": 5,
   "metadata": {
    "papermill": {
     "duration": 0.019979,
     "end_time": "2018-10-30T16:12:29.440054",
     "exception": false,
     "start_time": "2018-10-30T16:12:29.420075",
     "status": "completed"
    },
    "tags": []
   },
   "outputs": [
    {
     "data": {
      "application/papermill.record+json": {
       "records read": 1313
      }
     },
     "metadata": {},
     "output_type": "display_data"
    },
    {
     "data": {
      "application/papermill.record+json": {
       "column_headers": [
        "eq_c_emailaddress",
        "country",
        "adobe_mcvisid",
        "PK_wbvstvisitorexternalid"
       ]
      }
     },
     "metadata": {},
     "output_type": "display_data"
    }
   ],
   "source": [
    "pm.record('records read', len(data))\n",
    "pm.record('column_headers', list(data[0].keys()))"
   ]
  },
  {
   "cell_type": "code",
   "execution_count": 6,
   "metadata": {
    "papermill": {
     "duration": 0.011639,
     "end_time": "2018-10-30T16:12:29.451835",
     "exception": false,
     "start_time": "2018-10-30T16:12:29.440196",
     "status": "completed"
    },
    "tags": [
     "parameters"
    ]
   },
   "outputs": [],
   "source": [
    "output_file = 'output.txt'"
   ]
  },
  {
   "cell_type": "code",
   "execution_count": 7,
   "metadata": {
    "papermill": {
     "duration": 0.029259,
     "end_time": "2018-10-30T16:12:29.484780",
     "exception": false,
     "start_time": "2018-10-30T16:12:29.455521",
     "status": "completed"
    },
    "tags": []
   },
   "outputs": [],
   "source": [
    "write_file(data, output_file)"
   ]
  },
  {
   "cell_type": "code",
   "execution_count": null,
   "metadata": {
    "papermill": {
     "duration": 1.8e-05,
     "end_time": "2018-10-30T16:12:29.484922",
     "exception": null,
     "start_time": "2018-10-30T16:12:29.484904",
     "status": "completed"
    },
    "tags": []
   },
   "outputs": [],
   "source": []
  }
 ],
 "metadata": {
  "celltoolbar": "Tags",
  "kernelspec": {
   "display_name": "Python 3",
   "language": "python",
   "name": "python3"
  },
  "language_info": {
   "codemirror_mode": {
    "name": "ipython",
    "version": 3
   },
   "file_extension": ".py",
   "mimetype": "text/x-python",
   "name": "python",
   "nbconvert_exporter": "python",
   "pygments_lexer": "ipython3",
   "version": "3.6.6"
  },
  "papermill": {
   "duration": 2.475386,
   "end_time": "2018-10-30T16:12:29.934667",
   "environment_variables": {},
   "exception": false,
   "output_path": "output2018-10-30.ipynb",
   "parameters": {
    "filename": "known2.csv",
    "output_file": "output_2018-10-30.txt"
   },
   "start_time": "2018-10-30T16:12:27.459281",
   "version": "0.15.1"
  }
 },
 "nbformat": 4,
 "nbformat_minor": 2
}